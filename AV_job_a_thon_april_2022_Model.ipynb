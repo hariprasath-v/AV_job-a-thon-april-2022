{
  "nbformat": 4,
  "nbformat_minor": 0,
  "metadata": {
    "colab": {
      "name": "AV_job-a-thon-april-2022-Model.ipynb",
      "provenance": [],
      "collapsed_sections": []
    },
    "kernelspec": {
      "name": "python3",
      "display_name": "Python 3"
    },
    "language_info": {
      "name": "python"
    }
  },
  "cells": [
    {
      "cell_type": "markdown",
      "metadata": {
        "id": "tVnuDb1CscTz"
      },
      "source": [
        "## Introduction\n",
        "\n",
        "#### Machine Learning model to forecast the demand of the car rentals on an hourly basis."
      ]
    },
    {
      "cell_type": "markdown",
      "metadata": {
        "id": "qhC4Y0evthv7"
      },
      "source": [
        "### Import the necessary packages."
      ]
    },
    {
      "cell_type": "code",
      "metadata": {
        "id": "5NPr3xwYn8US"
      },
      "source": [
        "import numpy as np # linear algebra\n",
        "import pandas as pd # data processing, CSV file I/O (e.g. pd.read_csv)\n",
        "import seaborn as sns # visualization\n",
        "from matplotlib import pyplot as plt # visualization\n",
        "%matplotlib inline\n",
        "import warnings\n",
        "warnings.filterwarnings(\"ignore\")\n",
        "import re"
      ],
      "execution_count": 1,
      "outputs": []
    },
    {
      "cell_type": "code",
      "metadata": {
        "colab": {
          "base_uri": "https://localhost:8080/"
        },
        "id": "yrgBbzEBoQdi",
        "outputId": "17904e37-c592-41a6-94e4-331ef6aeb89b"
      },
      "source": [
        "from google.colab import drive\n",
        "drive.mount('/content/gdrive')"
      ],
      "execution_count": 2,
      "outputs": [
        {
          "output_type": "stream",
          "name": "stdout",
          "text": [
            "Mounted at /content/gdrive\n"
          ]
        }
      ]
    },
    {
      "cell_type": "markdown",
      "metadata": {
        "id": "4v-Zy4gIn8UW"
      },
      "source": [
        "### Import train and test dataset"
      ]
    },
    {
      "cell_type": "code",
      "metadata": {
        "id": "2-h0bcvHn8UZ"
      },
      "source": [
        "train=pd.read_csv(\"/content/gdrive/MyDrive/AV_job-a-thon-april-2022/train_E1GspfA.csv\")\n",
        "test=pd.read_csv(\"/content/gdrive/MyDrive/AV_job-a-thon-april-2022/test_6QvDdzb.csv\")"
      ],
      "execution_count": 92,
      "outputs": []
    },
    {
      "cell_type": "markdown",
      "source": [
        "#### Let's do some feature engineering on date column."
      ],
      "metadata": {
        "id": "t0eHgQnIRtDS"
      }
    },
    {
      "cell_type": "code",
      "source": [
        "def pre_process(df):\n",
        "\n",
        "  df['date_time']=pd.to_datetime((df[\"date\"] +\" \"+ df['hour'].astype('str')),format=\"%Y-%m-%d  %H\") #convert to date-time format\n",
        "  df['day']=df['date_time'].dt.day #extract day from the date\n",
        "  df['day_label']=df['date_time'].dt.day_name() #extract the day name from the date\n",
        "  df['day_number']=df['date_time'].dt.dayofweek #extract the day number from the date\n",
        "  df['month_number']=df['date_time'].dt.month #extract month number from the date\n",
        "  df['month_label']=df['date_time'].dt.strftime('%b') #extract the month name from the date\n",
        "  df['year_quarter']=df['date_time'].dt.quarter #extract the quarter of the year\n",
        "  df['week_of_year']=df['date_time'].dt.week #extract week of the year from date\n",
        "  df['year']= df['date_time'].dt.year #extract year\n",
        "  df['dayofmonth'] = df['date_time'].dt.daysinmonth #extract the day of the month\n",
        "  df['dayofyear'] = df['date_time'].dt.day_of_year #extract day of the year\n",
        "  df['weekday']=df['date_time'].dt.day_name().isin(['Monday', 'Tuesday', 'Wednesday', 'Thursday', 'Friday']).astype('int') #create weekday column\n",
        "  df['weekend']=df['date_time'].dt.day_name().isin(['Saturday', 'Sunday']).astype('int') #create weekend column\n",
        "  df['month_start']=df['date_time'].dt.is_month_start.astype('int') #create month start\n",
        "  df['month_end']=df['date_time'].dt.is_month_end.astype('int') #create month end\n",
        "  df['quarter_start']=df['date_time'].dt.is_quarter_start.astype('int') #create quarter start\n",
        "  df['quarter_end']=df['date_time'].dt.is_quarter_end.astype('int') #create quarter end\n",
        "  df['year_start']=df['date_time'].dt.is_year_start.astype('int') #create year start\n",
        "  df['year_end']=df['date_time'].dt.is_year_end.astype('int') #create year end\n",
        "  df['hour']=df['date_time'].dt.hour #create hour\n",
        " \n",
        "  #function to convert month to seasons\n",
        "  def month2seasons(x):\n",
        "    season=\"\"\n",
        "    if x in [1, 2]:\n",
        "        season = 'winter'\n",
        "    elif x in [3, 4, 5]:\n",
        "        season = 'summer'\n",
        "    elif x in [6,7,8,9]:\n",
        "        season = 'monsoon'\n",
        "    elif x in [10,11,12]:\n",
        "        season = 'post-monsoon'\n",
        "    return season\n",
        "\n",
        " \n",
        "  df['seasons']=df['month_number'].apply(month2seasons)\n",
        "\n",
        "  def hours2timing(x):\n",
        "    if x in range(20,23):\n",
        "        timing = 'Night'\n",
        "    elif x in range(5,12):\n",
        "        timing = 'Morning'\n",
        "    elif x in range(12, 16):\n",
        "        timing = 'Afternoon'\n",
        "    elif x in range(16, 20):\n",
        "        timing = 'Evening'\n",
        "    elif x in [23,0,1,2,3,4]:\n",
        "        timing = 'Midnight'    \n",
        "    else:\n",
        "        timing = 'X'\n",
        "    return timing\n",
        "\n",
        "\n",
        "\n",
        "  df['timings']=df['hour'].apply(hours2timing) \n",
        "\n",
        "  df['rec_count']=df.groupby(['day','month_number','year'])['hour'].transform('count')\n",
        "\n",
        "\n",
        "\n",
        "  return df"
      ],
      "metadata": {
        "id": "jY_jcr6xjx8H"
      },
      "execution_count": 93,
      "outputs": []
    },
    {
      "cell_type": "markdown",
      "source": [
        "### Apply the pre-processing steps to train data."
      ],
      "metadata": {
        "id": "-Ts32JcKuJm3"
      }
    },
    {
      "cell_type": "code",
      "source": [
        "train=pre_process(train)"
      ],
      "metadata": {
        "id": "-h_f2kOScGdi"
      },
      "execution_count": 94,
      "outputs": []
    },
    {
      "cell_type": "markdown",
      "source": [
        "### Apply the pre-processing steps to test data."
      ],
      "metadata": {
        "id": "er2UlCcHLMpZ"
      }
    },
    {
      "cell_type": "code",
      "source": [
        "test=pre_process(test)"
      ],
      "metadata": {
        "id": "j2tYSlWacJ72"
      },
      "execution_count": 95,
      "outputs": []
    },
    {
      "cell_type": "markdown",
      "source": [
        "### Import necessary packages"
      ],
      "metadata": {
        "id": "_nnWl92PTUCc"
      }
    },
    {
      "cell_type": "code",
      "source": [
        "!pip install catboost"
      ],
      "metadata": {
        "id": "1fUVrEtGVeWW"
      },
      "execution_count": null,
      "outputs": []
    },
    {
      "cell_type": "code",
      "source": [
        "from sklearn.model_selection import  train_test_split\n",
        "from catboost import CatBoostRegressor\n",
        "from sklearn.metrics import mean_squared_error\n",
        "from sklearn.preprocessing import LabelEncoder\n",
        "import lightgbm as lgbm"
      ],
      "metadata": {
        "id": "l0hI_23jVUZI"
      },
      "execution_count": 96,
      "outputs": []
    },
    {
      "cell_type": "code",
      "source": [
        "for i,col in enumerate(train.columns):\n",
        "  print(f\"{i}_{col}\") \n"
      ],
      "metadata": {
        "colab": {
          "base_uri": "https://localhost:8080/"
        },
        "id": "9mt1q9PMVsm5",
        "outputId": "ff39587d-6ca4-45f1-cf0d-62ad85f532b6"
      },
      "execution_count": 97,
      "outputs": [
        {
          "output_type": "stream",
          "name": "stdout",
          "text": [
            "0_date\n",
            "1_hour\n",
            "2_demand\n",
            "3_date_time\n",
            "4_day\n",
            "5_day_label\n",
            "6_day_number\n",
            "7_month_number\n",
            "8_month_label\n",
            "9_year_quarter\n",
            "10_week_of_year\n",
            "11_year\n",
            "12_dayofmonth\n",
            "13_dayofyear\n",
            "14_weekday\n",
            "15_weekend\n",
            "16_month_start\n",
            "17_month_end\n",
            "18_quarter_start\n",
            "19_quarter_end\n",
            "20_year_start\n",
            "21_year_end\n",
            "22_seasons\n",
            "23_timings\n",
            "24_rec_count\n"
          ]
        }
      ]
    },
    {
      "cell_type": "markdown",
      "metadata": {
        "id": "NkvvGUVPYezl"
      },
      "source": [
        "### Split predictor and target variables."
      ]
    },
    {
      "cell_type": "code",
      "source": [
        "X=train.iloc[:,np.r_[1,4,6,7,9:25]]\n",
        "y=train['demand']"
      ],
      "metadata": {
        "id": "AMi4Hn0pprM8"
      },
      "execution_count": 98,
      "outputs": []
    },
    {
      "cell_type": "markdown",
      "source": [
        "### Label encode the categorical columns seasons and timings."
      ],
      "metadata": {
        "id": "BpFR463UZbWF"
      }
    },
    {
      "cell_type": "code",
      "source": [
        "lbl=LabelEncoder()"
      ],
      "metadata": {
        "id": "i_TRqWlltQi3"
      },
      "execution_count": 100,
      "outputs": []
    },
    {
      "cell_type": "code",
      "source": [
        "for i in ['seasons', 'timings']:\n",
        "  X[i]=lbl.fit_transform(X[[i]])"
      ],
      "metadata": {
        "id": "mOSxqRWrtYqr"
      },
      "execution_count": 101,
      "outputs": []
    },
    {
      "cell_type": "markdown",
      "source": [
        "### Train and validation split"
      ],
      "metadata": {
        "id": "lCRMD_6vZoPd"
      }
    },
    {
      "cell_type": "code",
      "source": [
        "X_train, X_valid, y_train, y_valid = train_test_split(\n",
        "    X, y, test_size=0.2, random_state=42)"
      ],
      "metadata": {
        "id": "Zv9hAHjqc80G"
      },
      "execution_count": 102,
      "outputs": []
    },
    {
      "cell_type": "markdown",
      "source": [
        "### Lgbm regressor model"
      ],
      "metadata": {
        "id": "UYMihD__ZtDA"
      }
    },
    {
      "cell_type": "code",
      "source": [
        "lgbm_reg=lgbm.LGBMRegressor(n_estimator=300)\n",
        "lgbm_reg.fit(X_train, y_train,early_stopping_rounds=500,\n",
        "             eval_metric='rmse',\n",
        "              eval_set=(X_valid, y_valid)\n",
        "              )\n",
        "             \n"
      ],
      "metadata": {
        "colab": {
          "base_uri": "https://localhost:8080/"
        },
        "id": "L9ZoL_fEM-yl",
        "outputId": "4e881507-2aed-44c6-a3b8-c3dca3c6a241"
      },
      "execution_count": 103,
      "outputs": [
        {
          "output_type": "stream",
          "name": "stdout",
          "text": [
            "[1]\tvalid_0's l2: 1563.36\tvalid_0's rmse: 39.5393\n",
            "Training until validation scores don't improve for 500 rounds.\n",
            "[2]\tvalid_0's l2: 1478.64\tvalid_0's rmse: 38.4531\n",
            "[3]\tvalid_0's l2: 1411.36\tvalid_0's rmse: 37.5681\n",
            "[4]\tvalid_0's l2: 1354.24\tvalid_0's rmse: 36.7999\n",
            "[5]\tvalid_0's l2: 1309.44\tvalid_0's rmse: 36.1861\n",
            "[6]\tvalid_0's l2: 1268.9\tvalid_0's rmse: 35.6216\n",
            "[7]\tvalid_0's l2: 1236.07\tvalid_0's rmse: 35.1579\n",
            "[8]\tvalid_0's l2: 1211.13\tvalid_0's rmse: 34.8013\n",
            "[9]\tvalid_0's l2: 1190.39\tvalid_0's rmse: 34.502\n",
            "[10]\tvalid_0's l2: 1170.04\tvalid_0's rmse: 34.2059\n",
            "[11]\tvalid_0's l2: 1154.82\tvalid_0's rmse: 33.9826\n",
            "[12]\tvalid_0's l2: 1136.01\tvalid_0's rmse: 33.7047\n",
            "[13]\tvalid_0's l2: 1124.49\tvalid_0's rmse: 33.5333\n",
            "[14]\tvalid_0's l2: 1112.34\tvalid_0's rmse: 33.3517\n",
            "[15]\tvalid_0's l2: 1102.4\tvalid_0's rmse: 33.2023\n",
            "[16]\tvalid_0's l2: 1095.34\tvalid_0's rmse: 33.0959\n",
            "[17]\tvalid_0's l2: 1087.87\tvalid_0's rmse: 32.9828\n",
            "[18]\tvalid_0's l2: 1079.09\tvalid_0's rmse: 32.8494\n",
            "[19]\tvalid_0's l2: 1071.67\tvalid_0's rmse: 32.7364\n",
            "[20]\tvalid_0's l2: 1063.74\tvalid_0's rmse: 32.6151\n",
            "[21]\tvalid_0's l2: 1056.33\tvalid_0's rmse: 32.5012\n",
            "[22]\tvalid_0's l2: 1051.18\tvalid_0's rmse: 32.4219\n",
            "[23]\tvalid_0's l2: 1043.72\tvalid_0's rmse: 32.3067\n",
            "[24]\tvalid_0's l2: 1038.74\tvalid_0's rmse: 32.2295\n",
            "[25]\tvalid_0's l2: 1034.64\tvalid_0's rmse: 32.1659\n",
            "[26]\tvalid_0's l2: 1032.39\tvalid_0's rmse: 32.1309\n",
            "[27]\tvalid_0's l2: 1029.76\tvalid_0's rmse: 32.0898\n",
            "[28]\tvalid_0's l2: 1025.15\tvalid_0's rmse: 32.018\n",
            "[29]\tvalid_0's l2: 1023.72\tvalid_0's rmse: 31.9957\n",
            "[30]\tvalid_0's l2: 1020.5\tvalid_0's rmse: 31.9453\n",
            "[31]\tvalid_0's l2: 1017.75\tvalid_0's rmse: 31.9022\n",
            "[32]\tvalid_0's l2: 1016.2\tvalid_0's rmse: 31.878\n",
            "[33]\tvalid_0's l2: 1013.14\tvalid_0's rmse: 31.8299\n",
            "[34]\tvalid_0's l2: 1010.18\tvalid_0's rmse: 31.7834\n",
            "[35]\tvalid_0's l2: 1009.18\tvalid_0's rmse: 31.7675\n",
            "[36]\tvalid_0's l2: 1007.74\tvalid_0's rmse: 31.7449\n",
            "[37]\tvalid_0's l2: 1006.47\tvalid_0's rmse: 31.7248\n",
            "[38]\tvalid_0's l2: 1004.32\tvalid_0's rmse: 31.691\n",
            "[39]\tvalid_0's l2: 1003.47\tvalid_0's rmse: 31.6776\n",
            "[40]\tvalid_0's l2: 1002.13\tvalid_0's rmse: 31.6565\n",
            "[41]\tvalid_0's l2: 1001.69\tvalid_0's rmse: 31.6494\n",
            "[42]\tvalid_0's l2: 1000.78\tvalid_0's rmse: 31.6351\n",
            "[43]\tvalid_0's l2: 1000.84\tvalid_0's rmse: 31.6361\n",
            "[44]\tvalid_0's l2: 1000.56\tvalid_0's rmse: 31.6316\n",
            "[45]\tvalid_0's l2: 999.73\tvalid_0's rmse: 31.6185\n",
            "[46]\tvalid_0's l2: 999.377\tvalid_0's rmse: 31.6129\n",
            "[47]\tvalid_0's l2: 998.362\tvalid_0's rmse: 31.5969\n",
            "[48]\tvalid_0's l2: 997.596\tvalid_0's rmse: 31.5847\n",
            "[49]\tvalid_0's l2: 997.351\tvalid_0's rmse: 31.5809\n",
            "[50]\tvalid_0's l2: 996.796\tvalid_0's rmse: 31.5721\n",
            "[51]\tvalid_0's l2: 996.828\tvalid_0's rmse: 31.5726\n",
            "[52]\tvalid_0's l2: 995.595\tvalid_0's rmse: 31.5531\n",
            "[53]\tvalid_0's l2: 995.537\tvalid_0's rmse: 31.5521\n",
            "[54]\tvalid_0's l2: 994.432\tvalid_0's rmse: 31.5346\n",
            "[55]\tvalid_0's l2: 994.11\tvalid_0's rmse: 31.5295\n",
            "[56]\tvalid_0's l2: 992.425\tvalid_0's rmse: 31.5028\n",
            "[57]\tvalid_0's l2: 992.346\tvalid_0's rmse: 31.5015\n",
            "[58]\tvalid_0's l2: 991.861\tvalid_0's rmse: 31.4938\n",
            "[59]\tvalid_0's l2: 991.707\tvalid_0's rmse: 31.4914\n",
            "[60]\tvalid_0's l2: 990.393\tvalid_0's rmse: 31.4705\n",
            "[61]\tvalid_0's l2: 989.901\tvalid_0's rmse: 31.4627\n",
            "[62]\tvalid_0's l2: 989.448\tvalid_0's rmse: 31.4555\n",
            "[63]\tvalid_0's l2: 989.203\tvalid_0's rmse: 31.4516\n",
            "[64]\tvalid_0's l2: 988.911\tvalid_0's rmse: 31.447\n",
            "[65]\tvalid_0's l2: 988.975\tvalid_0's rmse: 31.448\n",
            "[66]\tvalid_0's l2: 988.902\tvalid_0's rmse: 31.4468\n",
            "[67]\tvalid_0's l2: 988.784\tvalid_0's rmse: 31.4449\n",
            "[68]\tvalid_0's l2: 988.973\tvalid_0's rmse: 31.4479\n",
            "[69]\tvalid_0's l2: 988.346\tvalid_0's rmse: 31.438\n",
            "[70]\tvalid_0's l2: 988.107\tvalid_0's rmse: 31.4342\n",
            "[71]\tvalid_0's l2: 987.553\tvalid_0's rmse: 31.4254\n",
            "[72]\tvalid_0's l2: 986.916\tvalid_0's rmse: 31.4152\n",
            "[73]\tvalid_0's l2: 986.825\tvalid_0's rmse: 31.4138\n",
            "[74]\tvalid_0's l2: 986.496\tvalid_0's rmse: 31.4085\n",
            "[75]\tvalid_0's l2: 986.626\tvalid_0's rmse: 31.4106\n",
            "[76]\tvalid_0's l2: 986.707\tvalid_0's rmse: 31.4119\n",
            "[77]\tvalid_0's l2: 986.301\tvalid_0's rmse: 31.4054\n",
            "[78]\tvalid_0's l2: 986.43\tvalid_0's rmse: 31.4075\n",
            "[79]\tvalid_0's l2: 985.932\tvalid_0's rmse: 31.3996\n",
            "[80]\tvalid_0's l2: 985.288\tvalid_0's rmse: 31.3893\n",
            "[81]\tvalid_0's l2: 984.962\tvalid_0's rmse: 31.3841\n",
            "[82]\tvalid_0's l2: 984.928\tvalid_0's rmse: 31.3836\n",
            "[83]\tvalid_0's l2: 984.739\tvalid_0's rmse: 31.3806\n",
            "[84]\tvalid_0's l2: 985.188\tvalid_0's rmse: 31.3877\n",
            "[85]\tvalid_0's l2: 984.881\tvalid_0's rmse: 31.3828\n",
            "[86]\tvalid_0's l2: 984.627\tvalid_0's rmse: 31.3788\n",
            "[87]\tvalid_0's l2: 984.941\tvalid_0's rmse: 31.3838\n",
            "[88]\tvalid_0's l2: 984.348\tvalid_0's rmse: 31.3743\n",
            "[89]\tvalid_0's l2: 984.364\tvalid_0's rmse: 31.3746\n",
            "[90]\tvalid_0's l2: 984.464\tvalid_0's rmse: 31.3762\n",
            "[91]\tvalid_0's l2: 984.774\tvalid_0's rmse: 31.3811\n",
            "[92]\tvalid_0's l2: 984.735\tvalid_0's rmse: 31.3805\n",
            "[93]\tvalid_0's l2: 984.707\tvalid_0's rmse: 31.38\n",
            "[94]\tvalid_0's l2: 984.894\tvalid_0's rmse: 31.383\n",
            "[95]\tvalid_0's l2: 984.715\tvalid_0's rmse: 31.3802\n",
            "[96]\tvalid_0's l2: 984.837\tvalid_0's rmse: 31.3821\n",
            "[97]\tvalid_0's l2: 984.665\tvalid_0's rmse: 31.3794\n",
            "[98]\tvalid_0's l2: 985.026\tvalid_0's rmse: 31.3851\n",
            "[99]\tvalid_0's l2: 984.956\tvalid_0's rmse: 31.384\n",
            "[100]\tvalid_0's l2: 984.538\tvalid_0's rmse: 31.3773\n",
            "Did not meet early stopping. Best iteration is:\n",
            "[88]\tvalid_0's l2: 984.348\tvalid_0's rmse: 31.3743\n"
          ]
        },
        {
          "output_type": "execute_result",
          "data": {
            "text/plain": [
              "LGBMRegressor(n_estimator=300)"
            ]
          },
          "metadata": {},
          "execution_count": 103
        }
      ]
    },
    {
      "cell_type": "markdown",
      "source": [
        "### Evaluate the model"
      ],
      "metadata": {
        "id": "iRIrbtPAZ4Zb"
      }
    },
    {
      "cell_type": "code",
      "source": [
        "pred1=lgbm_reg.predict(X_valid)\n",
        "mean_squared_error(y_valid, pred1,squared=True)"
      ],
      "metadata": {
        "colab": {
          "base_uri": "https://localhost:8080/"
        },
        "id": "5oOJCEhVNwPV",
        "outputId": "42e3b9e7-4c2d-45c1-dc6c-d27183333688"
      },
      "execution_count": 104,
      "outputs": [
        {
          "output_type": "execute_result",
          "data": {
            "text/plain": [
              "984.3483505626214"
            ]
          },
          "metadata": {},
          "execution_count": 104
        }
      ]
    },
    {
      "cell_type": "markdown",
      "source": [
        "### Feature Importance"
      ],
      "metadata": {
        "id": "ZFHkcz-ObB1K"
      }
    },
    {
      "cell_type": "code",
      "source": [
        "pd.Series(lgbm_reg.feature_importances_,X.columns).sort_values(ascending=True).plot(kind='barh',\n",
        "                                                                                     figsize=(10,8));\n",
        "plt.title(\"Feature Importance\",fontsize=16);                                                                                     "
      ],
      "metadata": {
        "colab": {
          "base_uri": "https://localhost:8080/",
          "height": 501
        },
        "id": "d0t1w1hlauvA",
        "outputId": "8aa3ef92-e6f6-4927-80ad-a009ff2fe35a"
      },
      "execution_count": 124,
      "outputs": [
        {
          "output_type": "display_data",
          "data": {
            "text/plain": [
              "<Figure size 720x576 with 1 Axes>"
            ],
            "image/png": "[encoded data removed]"
          },
          "metadata": {
            "needs_background": "light"
          }
        }
      ]
    },
    {
      "cell_type": "markdown",
      "source": [
        "### Label encode the categorical columns in test data."
      ],
      "metadata": {
        "id": "0ic3xB5OZ-kq"
      }
    },
    {
      "cell_type": "code",
      "source": [
        "for i in ['seasons', 'timings']:\n",
        "  test[i]=lbl.fit_transform(test[[i]])"
      ],
      "metadata": {
        "id": "aqf4P_7fN7Wy"
      },
      "execution_count": 105,
      "outputs": []
    },
    {
      "cell_type": "markdown",
      "source": [
        "### Predict the test data"
      ],
      "metadata": {
        "id": "CVLpz_LyaE4B"
      }
    },
    {
      "cell_type": "code",
      "source": [
        "pred=lgbm_reg.predict(test.loc[:,X.columns])"
      ],
      "metadata": {
        "id": "7wJj-dy6d-Tj"
      },
      "execution_count": 106,
      "outputs": []
    },
    {
      "cell_type": "markdown",
      "source": [
        "### Create dataframe for submission"
      ],
      "metadata": {
        "id": "NlQbNLVoaHzn"
      }
    },
    {
      "cell_type": "code",
      "source": [
        "res=pd.DataFrame({'date':test['date'],'hour':test['hour'],'demand':pred})"
      ],
      "metadata": {
        "id": "g7mI6V8UeOtn"
      },
      "execution_count": 107,
      "outputs": []
    },
    {
      "cell_type": "markdown",
      "source": [
        "### Write the data to csv"
      ],
      "metadata": {
        "id": "pbIMY1k4aMcO"
      }
    },
    {
      "cell_type": "code",
      "source": [
        "res.to_csv(\"lightgbm_regressor_final.csv\",index=False)"
      ],
      "metadata": {
        "id": "7D6ATKcjQJfP"
      },
      "execution_count": 108,
      "outputs": []
    },
    {
      "cell_type": "code",
      "source": [
        ""
      ],
      "metadata": {
        "id": "NpEgO4HBar6z"
      },
      "execution_count": null,
      "outputs": []
    },
    {
      "cell_type": "code",
      "source": [
        "train1=train"
      ],
      "metadata": {
        "id": "aTM9bqt8QW9H"
      },
      "execution_count": 117,
      "outputs": []
    },
    {
      "cell_type": "code",
      "source": [
        "train1.set_index('date_time',inplace=True)"
      ],
      "metadata": {
        "id": "O6Fx2AMkQlDh"
      },
      "execution_count": 118,
      "outputs": []
    },
    {
      "cell_type": "code",
      "source": [
        "test1=test"
      ],
      "metadata": {
        "id": "ooNaJCQ1QaI5"
      },
      "execution_count": 119,
      "outputs": []
    },
    {
      "cell_type": "code",
      "source": [
        "test1.set_index('date_time',inplace=True)"
      ],
      "metadata": {
        "id": "8IjCMrAEQrAd"
      },
      "execution_count": 120,
      "outputs": []
    },
    {
      "cell_type": "code",
      "source": [
        "test1['demand']=pred"
      ],
      "metadata": {
        "id": "NE1FEtRxQcN_"
      },
      "execution_count": 121,
      "outputs": []
    },
    {
      "cell_type": "code",
      "source": [
        "_=plt.figure(figsize=(20,6));\n",
        "plt.plot(train1['demand'],label='train');\n",
        "plt.plot(test1['demand'],label='test');\n",
        "plt.legend();\n",
        "plt.title('demand of the car rentals'.capitalize(),fontsize=15);"
      ],
      "metadata": {
        "colab": {
          "base_uri": "https://localhost:8080/",
          "height": 310
        },
        "id": "xyOUbdBsQPd4",
        "outputId": "fa51f839-6858-4459-ddb1-1456ca486593"
      },
      "execution_count": 123,
      "outputs": [
        {
          "output_type": "display_data",
          "data": {
            "text/plain": [
              "<Figure size 1440x432 with 1 Axes>"
            ],
            "image/png": "[encoded data removed]"
          },
          "metadata": {
            "needs_background": "light"
          }
        }
      ]
    }
  ]
}